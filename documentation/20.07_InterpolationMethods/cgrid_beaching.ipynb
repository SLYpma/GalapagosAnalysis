{
 "cells": [
  {
   "cell_type": "code",
   "execution_count": null,
   "metadata": {},
   "outputs": [],
   "source": [
    "%pylab inline\n",
    "from parcels import FieldSet, Field, ParticleSet, JITParticle, AdvectionRK4, ErrorCode, Variable\n",
    "import cartopy\n",
    "from glob import glob\n",
    "import matplotlib.pyplot as plt\n",
    "from matplotlib import colors, cm\n",
    "import numpy as np\n",
    "import xarray as xr\n",
    "from netCDF4 import Dataset\n",
    "import math as math\n",
    "import matplotlib.animation as animation\n",
    "import datetime as datetime\n",
    "sys.path.insert(1, '../../functions')\n",
    "from ParticlePlotFunctions import *\n",
    "%matplotlib inline"
   ]
  },
  {
   "cell_type": "markdown",
   "metadata": {},
   "source": [
    "### Velocity fields MITgcm\n",
    "\n",
    "UVEL(time, YC, XG) & VVEL(time, YG, XC)\n",
    "\n",
    "Check how particles moves through U or V grid close to land points "
   ]
  },
  {
   "cell_type": "code",
   "execution_count": null,
   "metadata": {},
   "outputs": [],
   "source": [
    "Ufiles = '../../input/modelfields/MITgcm4km/RGEMS_2008_Surf.nc'\n",
    "Xfiles = '../../input/modelfields/MITgcm4km/RGEMS3_Surf_grid.nc'\n",
    "\n",
    "date = 200\n",
    "\n",
    "dfile = Dataset(Ufiles)\n",
    "Uvel = dfile.variables['UVEL'][date,:,:]\n",
    "Vvel = dfile.variables['VVEL'][date,:,:]\n",
    "dfile = Dataset(Xfiles)\n",
    "bathy = dfile.variables['maskC'][0,:,:]\n",
    "XG = dfile.variables['XG'][:]\n",
    "YG = dfile.variables['YG'][:]\n",
    "XC = dfile.variables['XC'][:]\n",
    "YC = dfile.variables['YC'][:]\n",
    "\n",
    "Uvel[Uvel==0]=nan\n",
    "Vvel[Vvel==0]=nan"
   ]
  },
  {
   "cell_type": "markdown",
   "metadata": {},
   "source": [
    "### Some trajectories"
   ]
  },
  {
   "cell_type": "code",
   "execution_count": null,
   "metadata": {},
   "outputs": [],
   "source": [
    "namefile = '../../input/particles/DrifterRelease_200615.nc'\n",
    "Traj = ReadTrajectories(namefile)\n",
    "release_time = 293  #number of releases at specific location \n",
    "release_loc = 675   #number of release locations\n",
    "total_particles = Traj['lon'].shape[0]\n",
    "\n",
    "startlon = Traj['lon'][0:release_loc,0]\n",
    "startlat = Traj['lat'][0:release_loc,0]"
   ]
  },
  {
   "cell_type": "markdown",
   "metadata": {},
   "source": [
    "### Check how many particles 'beach'\n",
    "\n",
    "Saves all end lon/lat of all particles and check where they are at that time.\n",
    "\n",
    "Clearly most particles leave the domain. The ones that do not are not 'advected' onto land, but get stuck.\n",
    "\n",
    "DrifterRelease_200615 (assuming c-grid) -> 4% of total\n",
    "\n",
    "AgridRelease_200727 (assuming a-grid) -> 5% of total"
   ]
  },
  {
   "cell_type": "code",
   "execution_count": null,
   "metadata": {},
   "outputs": [],
   "source": [
    "endloc1 = np.zeros((2,Traj['lon'].shape[0]))\n",
    "endloc2 = np.zeros((2,Traj['lon'].shape[0]))\n",
    "particlelong = []\n",
    "\n",
    "for p in range(Traj['lon'].shape[0]):\n",
    "    indexloc = np.where(isnan(Traj['lon'][p,:]))[0]\n",
    "    if indexloc.any():\n",
    "        endloc1[0,p]=Traj['lon'][p,indexloc[0]-1]\n",
    "        endloc1[1,p]=Traj['lat'][p,indexloc[0]-1]\n",
    "    else:\n",
    "        endloc2[0,p]=Traj['lon'][p,-1]\n",
    "        endloc2[1,p]=Traj['lat'][p,-1]\n",
    "        particlelong.append(p)\n",
    "print(len(particlelong)/p*100)\n",
    "\n",
    "map_extent = [-95,-87.5,-2,1]      \n",
    "fig, ax = plt.subplots(1,figsize=(8,8))\n",
    "ax.scatter(endloc1[0,:],endloc1[1,:],s=40,c='k')\n",
    "ax.scatter(endloc2[0,:],endloc2[1,:],s=40,c='r')\n",
    "ax.set_xlim(map_extent[0:2])\n",
    "ax.set_ylim(map_extent[2:4])\n",
    "#ax.plot(Traj['lon'][particlelong,:].T,Traj['lat'][particlelong,:].T) "
   ]
  },
  {
   "cell_type": "code",
   "execution_count": null,
   "metadata": {},
   "outputs": [],
   "source": [
    "map_extent = [-90.5,-90,-0.55,-0.45]   \n",
    "figsize=(20, 8)                            \n",
    "particle1 = particlelong[20]\n",
    "particle2 = particlelong[20]\n",
    "particle3 = particlelong[20]\n",
    "\n",
    "fig, ax = plt.subplots(1,3,figsize=figsize,\n",
    "                           sharex = True, \n",
    "                           sharey = True)\n",
    "fig.subplots_adjust(hspace=.5, wspace=.1)\n",
    "ax = ax.ravel()\n",
    "fig.text(0.5, 0.03, 'longitude', ha='center', va='center')\n",
    "fig.text(0.07, 0.5, 'latitude', ha='center', va='center', rotation='vertical')\n",
    "\n",
    "\n",
    "Vlandmask = np.where(isnan(Vvel))\n",
    "Vlon = XC[Vlandmask[1][:]]\n",
    "Vlat = YG[Vlandmask[0][:]]   \n",
    "ax[0].scatter(Vlon,Vlat,s=40,c='k')\n",
    "ax[0].scatter(Traj['lon'][particle1,:],Traj['lat'][particle1,:],s=20,c='r')   \n",
    "ax[0].scatter(Traj['lon'][particle2,:],Traj['lat'][particle2,:],s=20,c='r')   \n",
    "ax[0].scatter(Traj['lon'][particle3,:],Traj['lat'][particle3,:],s=20,c='r')   \n",
    "ax[0].set_title('land on meridional velocity points (XC,YG)')          \n",
    "ax[0].set_xlim(map_extent[0:2])\n",
    "ax[0].set_ylim(map_extent[2:4])\n",
    "\n",
    "Ulandmask = np.where(isnan(Uvel))\n",
    "Ulon = XG[Ulandmask[1][:]]\n",
    "Ulat = YC[Ulandmask[0][:]]   \n",
    "ax[1].scatter(Ulon,Ulat,s=40,c='k')\n",
    "ax[1].scatter(Traj['lon'][particle1,:],Traj['lat'][particle1,:],s=20,c='r')   \n",
    "ax[1].scatter(Traj['lon'][particle2,:],Traj['lat'][particle2,:],s=20,c='r')   \n",
    "ax[1].scatter(Traj['lon'][particle3,:],Traj['lat'][particle3,:],s=20,c='r')\n",
    "ax[1].set_title('land at zonal velocity points (XG,YC)')          \n",
    "ax[1].set_xlim(map_extent[0:2])\n",
    "ax[1].set_ylim(map_extent[2:4])\n",
    "\n",
    "Clandmask = np.where(bathy==0)\n",
    "Clon = XC[Clandmask[1][:]]\n",
    "Clat = YC[Clandmask[0][:]]   \n",
    "ax[2].scatter(Clon,Clat,s=40,c='k')\n",
    "ax[2].scatter(Traj['lon'][particle1,:],Traj['lat'][particle1,:],s=20,c='r')   \n",
    "ax[2].scatter(Traj['lon'][particle2,:],Traj['lat'][particle2,:],s=20,c='r')   \n",
    "ax[2].scatter(Traj['lon'][particle3,:],Traj['lat'][particle3,:],s=20,c='r')\n",
    "ax[2].plot(Traj['lon'][particle3,:],Traj['lat'][particle3,:],'r')\n",
    "ax[2].set_title('land at centre of cell (XC,YC)')          \n",
    "ax[2].set_xlim(map_extent[0:2])\n",
    "ax[2].set_ylim(map_extent[2:4])\n",
    "\n",
    "plt.savefig('land_points_agrid.png', dpi=300)"
   ]
  },
  {
   "cell_type": "markdown",
   "metadata": {},
   "source": [
    "### Compare pathways A-grid vs. C-grid\n",
    "\n",
    "DrifterRelease_200615 & AgridRelease_200727.nc "
   ]
  }
 ],
 "metadata": {
  "kernelspec": {
   "display_name": "Python 3",
   "language": "python",
   "name": "python3"
  },
  "language_info": {
   "codemirror_mode": {
    "name": "ipython",
    "version": 3
   },
   "file_extension": ".py",
   "mimetype": "text/x-python",
   "name": "python",
   "nbconvert_exporter": "python",
   "pygments_lexer": "ipython3",
   "version": "3.6.7"
  }
 },
 "nbformat": 4,
 "nbformat_minor": 4
}
