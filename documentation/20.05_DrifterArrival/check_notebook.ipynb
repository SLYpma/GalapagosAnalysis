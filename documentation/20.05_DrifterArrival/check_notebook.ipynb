{
 "cells": [
  {
   "cell_type": "code",
   "execution_count": null,
   "metadata": {},
   "outputs": [],
   "source": [
    "from datetime import timedelta as delta\n",
    "from os import path\n",
    "from glob import glob\n",
    "import numpy as np\n",
    "import dask\n",
    "import math\n",
    "import xarray as xr\n",
    "import warnings\n",
    "warnings.simplefilter('ignore', category=xr.SerializationWarning)\n",
    "\n",
    "from parcels import AdvectionRK4\n",
    "from parcels import Field\n",
    "from parcels import FieldSet\n",
    "from parcels import JITParticle\n",
    "from parcels import ParticleFile\n",
    "from parcels import ParticleSet\n",
    "from parcels import Variable"
   ]
  },
  {
   "cell_type": "code",
   "execution_count": null,
   "metadata": {},
   "outputs": [],
   "source": [
    "#input\n",
    "wstokes = False          #False || True\n",
    "data_in = \"/projects/0/topios/hydrodynamic_data\"\n",
    "data_out = \"/home/sypmauu/GalapagosProject/results/data_output\"\n",
    "filename_out = \"DrifterArrival_fwd_nemo\""
   ]
  },
  {
   "cell_type": "code",
   "execution_count": null,
   "metadata": {},
   "outputs": [],
   "source": [
    "#NEMO field\n",
    "ufiles = sorted(glob(data_in + \"/NEMO-MEDUSA/ORCA0083-N006/means/ORCA0083-N06_200[8-9]*d05U.nc\"))\n",
    "vfiles = [u.replace('05U.nc', '05V.nc') for u in ufiles]\n",
    "meshfile = glob(data_in + \"/NEMO-MEDUSA/ORCA0083-N006/domain/coordinates.nc\")\n",
    "\n",
    "files_nemo = {'U': {'lon': meshfile, 'lat': meshfile, 'data': ufiles},\n",
    "              'V': {'lon': meshfile, 'lat': meshfile, 'data': vfiles}}\n",
    "variables_nemo = {'U': 'uo', 'V': 'vo'}\n",
    "dimensions_nemo = {'lon': 'glamf', 'lat': 'gphif', 'time': 'time_counter'}\n",
    "indices_nemo = {'lon': range(2005, 2605), 'lat': range(1410, 1578)}\n",
    "\n",
    "fieldset_nemo = FieldSet.from_nemo(files_nemo, \n",
    "                                   variables_nemo,\n",
    "                                   dimensions_nemo,\n",
    "                                   indices=indices_nemo)"
   ]
  },
  {
   "cell_type": "code",
   "execution_count": null,
   "metadata": {},
   "outputs": [],
   "source": [
    "#Stokes Field\n",
    "if wstokes:\n",
    "    files_stokes = sorted(glob(data_in + \"/WaveWatch3data/CFSR/WW3-GLOB-30M_200[8-9]*_uss.nc\"))\n",
    "\n",
    "    variables_stokes = {'U': 'uuss',\n",
    "                        'V': 'vuss'}\n",
    "    dimensions_stokes = {'U': {'lon': 'longitude', 'lat': 'latitude', 'time': 'time'},\n",
    "                         'V': {'lon': 'longitude', 'lat': 'latitude', 'time': 'time'}}\n",
    "    indices_stokes = {'lon': range(120, 220), 'lat': range(142, 170)}\n",
    "    \n",
    "    fieldset_stokes = FieldSet.from_netcdf(files_stokes, \n",
    "                                           variables_stokes, \n",
    "                                           dimensions_stokes,\n",
    "                                           indices=indices_stokes)\n",
    "    fieldset_stokes.add_periodic_halo(zonal=True, meridional=False, halosize=5)\n",
    "    fieldset = FieldSet(U=fieldset_nemo.U + fieldset_stokes.U,\n",
    "                        V=fieldset_nemo.V + fieldset_stokes.V)\n",
    "\n",
    "    fU = fieldset.U[0]\n",
    "    fname = path.join(data_out, filename_out + \"_wstokes.nc\")\n",
    "else:\n",
    "    fieldset = fieldset_nemo\n",
    "    fU = fieldset.U\n",
    "    fname = path.join(data_out, filename_out + \".nc\")"
   ]
  },
  {
   "cell_type": "code",
   "execution_count": null,
   "metadata": {},
   "outputs": [],
   "source": [
    "print(fU.__dict__)"
   ]
  },
  {
   "cell_type": "code",
   "execution_count": null,
   "metadata": {},
   "outputs": [],
   "source": [
    "#mask for different islands galapagos \n",
    "lenx = len(fU.grid.lon)\n",
    "leny = len(fU.grid.lat)\n",
    "galapagosmask = np.zeros((leny,lenx))\n",
    "extent1 = [-91.7, -89.9, -1.1, 0.2]\n",
    "extent2 = [-90.8, -90.3, 0.2, 0.7]\n",
    "extent3 = [-90.6, -89.5, -1.6, -1.1]\n",
    "extent4 = [-89.9, -89, -1.1, -0.5]\n",
    "for x in range(0, lenx):\n",
    "    for y in range(0, leny):\n",
    "        if (fU.grid.lon[x] >= extent1[0] and \n",
    "            fU.grid.lon[x] < extent1[1] and\n",
    "            fU.grid.lat[y] >= extent1[2] and \n",
    "            fU.grid.lat[y] < extent1[3]):\n",
    "            galapagosmask[y, x] = 1\n",
    "        if (fU.grid.lon[x] >= extent2[0] and \n",
    "            fU.grid.lon[x] < extent2[1] and\n",
    "            fU.grid.lat[y] >= extent2[2] and \n",
    "            fU.grid.lat[y] < extent2[3]):\n",
    "            galapagosmask[y, x] = 2\n",
    "        if (fU.grid.lon[x] >= extent3[0] and \n",
    "            fU.grid.lon[x] < extent3[1] and\n",
    "            fU.grid.lat[y] >= extent3[2] and \n",
    "            fU.grid.lat[y] < extent3[3]):\n",
    "            galapagosmask[y, x] = 3\n",
    "        if (fU.grid.lon[x] >= extent4[0] and \n",
    "            fU.grid.lon[x] < extent4[1] and\n",
    "            fU.grid.lat[y] >= extent4[2] and \n",
    "            fU.grid.lat[y] < extent4[3]):\n",
    "            galapagosmask[y, x] = 4\n",
    "lon = fU.grid.lon\n",
    "lat = fU.grid.lat     \n",
    "depth = 0\n",
    "fieldset.add_field(Field('galapagosmask', galapagosmask, lon=lon,lat=lat,depth=depth,\n",
    "                         mesh='spherical', interp_method='nearest',allow_time_extrapolation=True))"
   ]
  }
 ],
 "metadata": {
  "kernelspec": {
   "display_name": "Python 3",
   "language": "python",
   "name": "python3"
  },
  "language_info": {
   "codemirror_mode": {
    "name": "ipython",
    "version": 3
   },
   "file_extension": ".py",
   "mimetype": "text/x-python",
   "name": "python",
   "nbconvert_exporter": "python",
   "pygments_lexer": "ipython3",
   "version": "3.7.6"
  }
 },
 "nbformat": 4,
 "nbformat_minor": 4
}
